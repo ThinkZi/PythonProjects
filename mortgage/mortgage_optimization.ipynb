{
 "cells": [
  {
   "cell_type": "markdown",
   "metadata": {},
   "source": [
    "We need to write a script that takes incomes, expenses and ... and returns the maximum price of the house"
   ]
  },
  {
   "cell_type": "markdown",
   "metadata": {},
   "source": [
    "## inputs\n",
    "1. Salaries list\n",
    "2. Rental income\n",
    "3. Property tax\n",
    "4. heating cost\n",
    "5. Car payments\n",
    "6. Other monthly loan payments\n",
    "7. CMHC rate\n",
    "8. GDSRand TDSR thresholds\n",
    "9. Stress test rate\n",
    "10. actual rate\n",
    "11. Available savings\n",
    "\n",
    "## Output\n",
    "Maximum house price"
   ]
  },
  {
   "cell_type": "code",
   "execution_count": 2,
   "metadata": {},
   "outputs": [],
   "source": [
    "\"\"\"debt class for all the calculations re mortgage\"\"\"\n",
    "class debt_calcs():\n",
    "    def __init__(self, salary = [100000, 71000]):\n",
    "        self.salary = salary\n",
    "        self.income = sum(self.salary)\n",
    "        self.stress_test_rate = 5.34\n",
    "        self.heating = 100\n",
    "    \n",
    "    def get_gdsr(self, monthly_mortgage, property_tax):\n",
    "        \n",
    "        gdsr = (monthly_mortgage + property_tax + self.heating)/self.income\n",
    "        return gdsr\n",
    "    \n",
    "    def get_tdsr(self, monthly_mortgage, property_tax,  other_loan_payments):\n",
    "        \n",
    "        tdsr = (monthly_mortgage + property_tax + self.heating + other_loan_payments)/self.income\n",
    "        return tdsr\n",
    "    return\n",
    "            \n",
    "    "
   ]
  },
  {
   "cell_type": "code",
   "execution_count": 13,
   "metadata": {},
   "outputs": [],
   "source": [
    "def get_monthly_mortgage(principal, number_of_years, annual_rate):\n",
    "    payments_per_year = 12\n",
    "    rate = annual_rate/payments_per_year\n",
    "    number_of_payments = payments_per_year * number_of_years\n",
    "    monthly_mortgage = principal * (rate *(1+rate)**number_of_payments)/(((1+rate)**number_of_payments) -1)\n",
    "    return monthly_mortgage"
   ]
  },
  {
   "cell_type": "code",
   "execution_count": null,
   "metadata": {},
   "outputs": [],
   "source": []
  }
 ],
 "metadata": {
  "kernelspec": {
   "display_name": "Python 3",
   "language": "python",
   "name": "python3"
  },
  "language_info": {
   "codemirror_mode": {
    "name": "ipython",
    "version": 3
   },
   "file_extension": ".py",
   "mimetype": "text/x-python",
   "name": "python",
   "nbconvert_exporter": "python",
   "pygments_lexer": "ipython3",
   "version": "3.6.6"
  }
 },
 "nbformat": 4,
 "nbformat_minor": 2
}
