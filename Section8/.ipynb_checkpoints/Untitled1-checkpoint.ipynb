{
 "cells": [
  {
   "cell_type": "code",
   "execution_count": 4,
   "metadata": {
    "collapsed": false
   },
   "outputs": [
    {
     "data": {
      "text/html": [
       "<div>\n",
       "<table border=\"1\" class=\"dataframe\">\n",
       "  <thead>\n",
       "    <tr style=\"text-align: right;\">\n",
       "      <th></th>\n",
       "      <th>Address</th>\n",
       "      <th>City</th>\n",
       "      <th>Country</th>\n",
       "      <th>Employees</th>\n",
       "      <th>ID</th>\n",
       "      <th>Name</th>\n",
       "      <th>State</th>\n",
       "    </tr>\n",
       "  </thead>\n",
       "  <tbody>\n",
       "    <tr>\n",
       "      <th>0</th>\n",
       "      <td>3666 21st St</td>\n",
       "      <td>San Francisco</td>\n",
       "      <td>USA</td>\n",
       "      <td>8</td>\n",
       "      <td>1</td>\n",
       "      <td>Madeira</td>\n",
       "      <td>CA 94114</td>\n",
       "    </tr>\n",
       "    <tr>\n",
       "      <th>1</th>\n",
       "      <td>735 Dolores St</td>\n",
       "      <td>San Francisco</td>\n",
       "      <td>USA</td>\n",
       "      <td>15</td>\n",
       "      <td>2</td>\n",
       "      <td>Bready Shop</td>\n",
       "      <td>CA 94119</td>\n",
       "    </tr>\n",
       "    <tr>\n",
       "      <th>2</th>\n",
       "      <td>332 Hill St</td>\n",
       "      <td>San Francisco</td>\n",
       "      <td>USA</td>\n",
       "      <td>25</td>\n",
       "      <td>3</td>\n",
       "      <td>Super River</td>\n",
       "      <td>California 94114</td>\n",
       "    </tr>\n",
       "    <tr>\n",
       "      <th>3</th>\n",
       "      <td>3995 23rd St</td>\n",
       "      <td>San Francisco</td>\n",
       "      <td>USA</td>\n",
       "      <td>10</td>\n",
       "      <td>4</td>\n",
       "      <td>Ben's Shop</td>\n",
       "      <td>CA 94114</td>\n",
       "    </tr>\n",
       "    <tr>\n",
       "      <th>4</th>\n",
       "      <td>1056 Sanchez St</td>\n",
       "      <td>San Francisco</td>\n",
       "      <td>USA</td>\n",
       "      <td>12</td>\n",
       "      <td>5</td>\n",
       "      <td>Sanchez</td>\n",
       "      <td>California</td>\n",
       "    </tr>\n",
       "    <tr>\n",
       "      <th>5</th>\n",
       "      <td>551 Alvarado St</td>\n",
       "      <td>San Francisco</td>\n",
       "      <td>USA</td>\n",
       "      <td>20</td>\n",
       "      <td>6</td>\n",
       "      <td>Richvalley</td>\n",
       "      <td>CA 94114</td>\n",
       "    </tr>\n",
       "  </tbody>\n",
       "</table>\n",
       "</div>"
      ],
      "text/plain": [
       "           Address           City Country  Employees  ID         Name  \\\n",
       "0     3666 21st St  San Francisco     USA          8   1      Madeira   \n",
       "1   735 Dolores St  San Francisco     USA         15   2  Bready Shop   \n",
       "2      332 Hill St  San Francisco     USA         25   3  Super River   \n",
       "3     3995 23rd St  San Francisco     USA         10   4   Ben's Shop   \n",
       "4  1056 Sanchez St  San Francisco     USA         12   5      Sanchez   \n",
       "5  551 Alvarado St  San Francisco     USA         20   6   Richvalley   \n",
       "\n",
       "              State  \n",
       "0          CA 94114  \n",
       "1          CA 94119  \n",
       "2  California 94114  \n",
       "3          CA 94114  \n",
       "4        California  \n",
       "5          CA 94114  "
      ]
     },
     "execution_count": 4,
     "metadata": {},
     "output_type": "execute_result"
    }
   ],
   "source": [
    "import pandas\n",
    "df1=pandas.read_json(\"http://pythonhow.com/supermarkets.json\")\n",
    "df1"
   ]
  },
  {
   "cell_type": "code",
   "execution_count": 5,
   "metadata": {
    "collapsed": false
   },
   "outputs": [
    {
     "data": {
      "text/html": [
       "<div>\n",
       "<table border=\"1\" class=\"dataframe\">\n",
       "  <thead>\n",
       "    <tr style=\"text-align: right;\">\n",
       "      <th></th>\n",
       "      <th>City</th>\n",
       "      <th>Country</th>\n",
       "      <th>Employees</th>\n",
       "      <th>ID</th>\n",
       "      <th>Name</th>\n",
       "      <th>State</th>\n",
       "    </tr>\n",
       "    <tr>\n",
       "      <th>Address</th>\n",
       "      <th></th>\n",
       "      <th></th>\n",
       "      <th></th>\n",
       "      <th></th>\n",
       "      <th></th>\n",
       "      <th></th>\n",
       "    </tr>\n",
       "  </thead>\n",
       "  <tbody>\n",
       "    <tr>\n",
       "      <th>3666 21st St</th>\n",
       "      <td>San Francisco</td>\n",
       "      <td>USA</td>\n",
       "      <td>8</td>\n",
       "      <td>1</td>\n",
       "      <td>Madeira</td>\n",
       "      <td>CA 94114</td>\n",
       "    </tr>\n",
       "    <tr>\n",
       "      <th>735 Dolores St</th>\n",
       "      <td>San Francisco</td>\n",
       "      <td>USA</td>\n",
       "      <td>15</td>\n",
       "      <td>2</td>\n",
       "      <td>Bready Shop</td>\n",
       "      <td>CA 94119</td>\n",
       "    </tr>\n",
       "    <tr>\n",
       "      <th>332 Hill St</th>\n",
       "      <td>San Francisco</td>\n",
       "      <td>USA</td>\n",
       "      <td>25</td>\n",
       "      <td>3</td>\n",
       "      <td>Super River</td>\n",
       "      <td>California 94114</td>\n",
       "    </tr>\n",
       "    <tr>\n",
       "      <th>3995 23rd St</th>\n",
       "      <td>San Francisco</td>\n",
       "      <td>USA</td>\n",
       "      <td>10</td>\n",
       "      <td>4</td>\n",
       "      <td>Ben's Shop</td>\n",
       "      <td>CA 94114</td>\n",
       "    </tr>\n",
       "    <tr>\n",
       "      <th>1056 Sanchez St</th>\n",
       "      <td>San Francisco</td>\n",
       "      <td>USA</td>\n",
       "      <td>12</td>\n",
       "      <td>5</td>\n",
       "      <td>Sanchez</td>\n",
       "      <td>California</td>\n",
       "    </tr>\n",
       "    <tr>\n",
       "      <th>551 Alvarado St</th>\n",
       "      <td>San Francisco</td>\n",
       "      <td>USA</td>\n",
       "      <td>20</td>\n",
       "      <td>6</td>\n",
       "      <td>Richvalley</td>\n",
       "      <td>CA 94114</td>\n",
       "    </tr>\n",
       "  </tbody>\n",
       "</table>\n",
       "</div>"
      ],
      "text/plain": [
       "                          City Country  Employees  ID         Name  \\\n",
       "Address                                                              \n",
       "3666 21st St     San Francisco     USA          8   1      Madeira   \n",
       "735 Dolores St   San Francisco     USA         15   2  Bready Shop   \n",
       "332 Hill St      San Francisco     USA         25   3  Super River   \n",
       "3995 23rd St     San Francisco     USA         10   4   Ben's Shop   \n",
       "1056 Sanchez St  San Francisco     USA         12   5      Sanchez   \n",
       "551 Alvarado St  San Francisco     USA         20   6   Richvalley   \n",
       "\n",
       "                            State  \n",
       "Address                            \n",
       "3666 21st St             CA 94114  \n",
       "735 Dolores St           CA 94119  \n",
       "332 Hill St      California 94114  \n",
       "3995 23rd St             CA 94114  \n",
       "1056 Sanchez St        California  \n",
       "551 Alvarado St          CA 94114  "
      ]
     },
     "execution_count": 5,
     "metadata": {},
     "output_type": "execute_result"
    }
   ],
   "source": [
    "df2=df1.set_index(\"Address\")\n",
    "df2"
   ]
  },
  {
   "cell_type": "code",
   "execution_count": 7,
   "metadata": {
    "collapsed": false
   },
   "outputs": [
    {
     "data": {
      "text/html": [
       "<div>\n",
       "<table border=\"1\" class=\"dataframe\">\n",
       "  <thead>\n",
       "    <tr style=\"text-align: right;\">\n",
       "      <th></th>\n",
       "      <th>Country</th>\n",
       "      <th>Employees</th>\n",
       "      <th>ID</th>\n",
       "    </tr>\n",
       "    <tr>\n",
       "      <th>Address</th>\n",
       "      <th></th>\n",
       "      <th></th>\n",
       "      <th></th>\n",
       "    </tr>\n",
       "  </thead>\n",
       "  <tbody>\n",
       "    <tr>\n",
       "      <th>735 Dolores St</th>\n",
       "      <td>USA</td>\n",
       "      <td>15</td>\n",
       "      <td>2</td>\n",
       "    </tr>\n",
       "    <tr>\n",
       "      <th>332 Hill St</th>\n",
       "      <td>USA</td>\n",
       "      <td>25</td>\n",
       "      <td>3</td>\n",
       "    </tr>\n",
       "  </tbody>\n",
       "</table>\n",
       "</div>"
      ],
      "text/plain": [
       "               Country  Employees  ID\n",
       "Address                              \n",
       "735 Dolores St     USA         15   2\n",
       "332 Hill St        USA         25   3"
      ]
     },
     "execution_count": 7,
     "metadata": {},
     "output_type": "execute_result"
    }
   ],
   "source": [
    "df2.loc[\"735 Dolores St\":\"332 Hill St\",\"Country\":\"ID\"]"
   ]
  },
  {
   "cell_type": "code",
   "execution_count": 9,
   "metadata": {
    "collapsed": false
   },
   "outputs": [
    {
     "data": {
      "text/html": [
       "<div>\n",
       "<table border=\"1\" class=\"dataframe\">\n",
       "  <thead>\n",
       "    <tr style=\"text-align: right;\">\n",
       "      <th></th>\n",
       "      <th>Country</th>\n",
       "      <th>Employees</th>\n",
       "      <th>ID</th>\n",
       "    </tr>\n",
       "    <tr>\n",
       "      <th>Address</th>\n",
       "      <th></th>\n",
       "      <th></th>\n",
       "      <th></th>\n",
       "    </tr>\n",
       "  </thead>\n",
       "  <tbody>\n",
       "    <tr>\n",
       "      <th>735 Dolores St</th>\n",
       "      <td>USA</td>\n",
       "      <td>15</td>\n",
       "      <td>2</td>\n",
       "    </tr>\n",
       "    <tr>\n",
       "      <th>332 Hill St</th>\n",
       "      <td>USA</td>\n",
       "      <td>25</td>\n",
       "      <td>3</td>\n",
       "    </tr>\n",
       "    <tr>\n",
       "      <th>3995 23rd St</th>\n",
       "      <td>USA</td>\n",
       "      <td>10</td>\n",
       "      <td>4</td>\n",
       "    </tr>\n",
       "  </tbody>\n",
       "</table>\n",
       "</div>"
      ],
      "text/plain": [
       "               Country  Employees  ID\n",
       "Address                              \n",
       "735 Dolores St     USA         15   2\n",
       "332 Hill St        USA         25   3\n",
       "3995 23rd St       USA         10   4"
      ]
     },
     "execution_count": 9,
     "metadata": {},
     "output_type": "execute_result"
    }
   ],
   "source": [
    "df2.iloc[1:4,1:4]"
   ]
  },
  {
   "cell_type": "code",
   "execution_count": 10,
   "metadata": {
    "collapsed": false
   },
   "outputs": [
    {
     "data": {
      "text/plain": [
       "\"Ben's Shop\""
      ]
     },
     "execution_count": 10,
     "metadata": {},
     "output_type": "execute_result"
    }
   ],
   "source": [
    "df2.ix[3,\"Name\"]"
   ]
  },
  {
   "cell_type": "code",
   "execution_count": 11,
   "metadata": {
    "collapsed": false
   },
   "outputs": [
    {
     "data": {
      "text/html": [
       "<div>\n",
       "<table border=\"1\" class=\"dataframe\">\n",
       "  <thead>\n",
       "    <tr style=\"text-align: right;\">\n",
       "      <th></th>\n",
       "      <th>City</th>\n",
       "      <th>Country</th>\n",
       "      <th>Employees</th>\n",
       "      <th>ID</th>\n",
       "      <th>Name</th>\n",
       "      <th>State</th>\n",
       "    </tr>\n",
       "    <tr>\n",
       "      <th>Address</th>\n",
       "      <th></th>\n",
       "      <th></th>\n",
       "      <th></th>\n",
       "      <th></th>\n",
       "      <th></th>\n",
       "      <th></th>\n",
       "    </tr>\n",
       "  </thead>\n",
       "  <tbody>\n",
       "    <tr>\n",
       "      <th>735 Dolores St</th>\n",
       "      <td>San Francisco</td>\n",
       "      <td>USA</td>\n",
       "      <td>15</td>\n",
       "      <td>2</td>\n",
       "      <td>Bready Shop</td>\n",
       "      <td>CA 94119</td>\n",
       "    </tr>\n",
       "    <tr>\n",
       "      <th>332 Hill St</th>\n",
       "      <td>San Francisco</td>\n",
       "      <td>USA</td>\n",
       "      <td>25</td>\n",
       "      <td>3</td>\n",
       "      <td>Super River</td>\n",
       "      <td>California 94114</td>\n",
       "    </tr>\n",
       "    <tr>\n",
       "      <th>3995 23rd St</th>\n",
       "      <td>San Francisco</td>\n",
       "      <td>USA</td>\n",
       "      <td>10</td>\n",
       "      <td>4</td>\n",
       "      <td>Ben's Shop</td>\n",
       "      <td>CA 94114</td>\n",
       "    </tr>\n",
       "    <tr>\n",
       "      <th>1056 Sanchez St</th>\n",
       "      <td>San Francisco</td>\n",
       "      <td>USA</td>\n",
       "      <td>12</td>\n",
       "      <td>5</td>\n",
       "      <td>Sanchez</td>\n",
       "      <td>California</td>\n",
       "    </tr>\n",
       "    <tr>\n",
       "      <th>551 Alvarado St</th>\n",
       "      <td>San Francisco</td>\n",
       "      <td>USA</td>\n",
       "      <td>20</td>\n",
       "      <td>6</td>\n",
       "      <td>Richvalley</td>\n",
       "      <td>CA 94114</td>\n",
       "    </tr>\n",
       "  </tbody>\n",
       "</table>\n",
       "</div>"
      ],
      "text/plain": [
       "                          City Country  Employees  ID         Name  \\\n",
       "Address                                                              \n",
       "735 Dolores St   San Francisco     USA         15   2  Bready Shop   \n",
       "332 Hill St      San Francisco     USA         25   3  Super River   \n",
       "3995 23rd St     San Francisco     USA         10   4   Ben's Shop   \n",
       "1056 Sanchez St  San Francisco     USA         12   5      Sanchez   \n",
       "551 Alvarado St  San Francisco     USA         20   6   Richvalley   \n",
       "\n",
       "                            State  \n",
       "Address                            \n",
       "735 Dolores St           CA 94119  \n",
       "332 Hill St      California 94114  \n",
       "3995 23rd St             CA 94114  \n",
       "1056 Sanchez St        California  \n",
       "551 Alvarado St          CA 94114  "
      ]
     },
     "execution_count": 11,
     "metadata": {},
     "output_type": "execute_result"
    }
   ],
   "source": [
    "df2.drop(\"3666 21st St\",0)"
   ]
  },
  {
   "cell_type": "code",
   "execution_count": 13,
   "metadata": {
    "collapsed": false
   },
   "outputs": [
    {
     "data": {
      "text/html": [
       "<div>\n",
       "<table border=\"1\" class=\"dataframe\">\n",
       "  <thead>\n",
       "    <tr style=\"text-align: right;\">\n",
       "      <th></th>\n",
       "      <th>Employees</th>\n",
       "      <th>ID</th>\n",
       "      <th>Name</th>\n",
       "      <th>State</th>\n",
       "    </tr>\n",
       "    <tr>\n",
       "      <th>Address</th>\n",
       "      <th></th>\n",
       "      <th></th>\n",
       "      <th></th>\n",
       "      <th></th>\n",
       "    </tr>\n",
       "  </thead>\n",
       "  <tbody>\n",
       "    <tr>\n",
       "      <th>3666 21st St</th>\n",
       "      <td>8</td>\n",
       "      <td>1</td>\n",
       "      <td>Madeira</td>\n",
       "      <td>CA 94114</td>\n",
       "    </tr>\n",
       "    <tr>\n",
       "      <th>735 Dolores St</th>\n",
       "      <td>15</td>\n",
       "      <td>2</td>\n",
       "      <td>Bready Shop</td>\n",
       "      <td>CA 94119</td>\n",
       "    </tr>\n",
       "    <tr>\n",
       "      <th>332 Hill St</th>\n",
       "      <td>25</td>\n",
       "      <td>3</td>\n",
       "      <td>Super River</td>\n",
       "      <td>California 94114</td>\n",
       "    </tr>\n",
       "    <tr>\n",
       "      <th>3995 23rd St</th>\n",
       "      <td>10</td>\n",
       "      <td>4</td>\n",
       "      <td>Ben's Shop</td>\n",
       "      <td>CA 94114</td>\n",
       "    </tr>\n",
       "    <tr>\n",
       "      <th>1056 Sanchez St</th>\n",
       "      <td>12</td>\n",
       "      <td>5</td>\n",
       "      <td>Sanchez</td>\n",
       "      <td>California</td>\n",
       "    </tr>\n",
       "    <tr>\n",
       "      <th>551 Alvarado St</th>\n",
       "      <td>20</td>\n",
       "      <td>6</td>\n",
       "      <td>Richvalley</td>\n",
       "      <td>CA 94114</td>\n",
       "    </tr>\n",
       "  </tbody>\n",
       "</table>\n",
       "</div>"
      ],
      "text/plain": [
       "                 Employees  ID         Name             State\n",
       "Address                                                      \n",
       "3666 21st St             8   1      Madeira          CA 94114\n",
       "735 Dolores St          15   2  Bready Shop          CA 94119\n",
       "332 Hill St             25   3  Super River  California 94114\n",
       "3995 23rd St            10   4   Ben's Shop          CA 94114\n",
       "1056 Sanchez St         12   5      Sanchez        California\n",
       "551 Alvarado St         20   6   Richvalley          CA 94114"
      ]
     },
     "execution_count": 13,
     "metadata": {},
     "output_type": "execute_result"
    }
   ],
   "source": [
    "df2.drop(df2.columns[:2],1)"
   ]
  },
  {
   "cell_type": "code",
   "execution_count": 15,
   "metadata": {
    "collapsed": true
   },
   "outputs": [],
   "source": [
    "df2.drop?"
   ]
  },
  {
   "cell_type": "code",
   "execution_count": 16,
   "metadata": {
    "collapsed": false
   },
   "outputs": [
    {
     "data": {
      "text/html": [
       "<div>\n",
       "<table border=\"1\" class=\"dataframe\">\n",
       "  <thead>\n",
       "    <tr style=\"text-align: right;\">\n",
       "      <th>Address</th>\n",
       "      <th>3666 21st St</th>\n",
       "      <th>735 Dolores St</th>\n",
       "      <th>332 Hill St</th>\n",
       "      <th>3995 23rd St</th>\n",
       "      <th>1056 Sanchez St</th>\n",
       "      <th>551 Alvarado St</th>\n",
       "    </tr>\n",
       "  </thead>\n",
       "  <tbody>\n",
       "    <tr>\n",
       "      <th>City</th>\n",
       "      <td>San Francisco</td>\n",
       "      <td>San Francisco</td>\n",
       "      <td>San Francisco</td>\n",
       "      <td>San Francisco</td>\n",
       "      <td>San Francisco</td>\n",
       "      <td>San Francisco</td>\n",
       "    </tr>\n",
       "    <tr>\n",
       "      <th>Country</th>\n",
       "      <td>USA</td>\n",
       "      <td>USA</td>\n",
       "      <td>USA</td>\n",
       "      <td>USA</td>\n",
       "      <td>USA</td>\n",
       "      <td>USA</td>\n",
       "    </tr>\n",
       "    <tr>\n",
       "      <th>Employees</th>\n",
       "      <td>8</td>\n",
       "      <td>15</td>\n",
       "      <td>25</td>\n",
       "      <td>10</td>\n",
       "      <td>12</td>\n",
       "      <td>20</td>\n",
       "    </tr>\n",
       "    <tr>\n",
       "      <th>ID</th>\n",
       "      <td>1</td>\n",
       "      <td>2</td>\n",
       "      <td>3</td>\n",
       "      <td>4</td>\n",
       "      <td>5</td>\n",
       "      <td>6</td>\n",
       "    </tr>\n",
       "    <tr>\n",
       "      <th>Name</th>\n",
       "      <td>Madeira</td>\n",
       "      <td>Bready Shop</td>\n",
       "      <td>Super River</td>\n",
       "      <td>Ben's Shop</td>\n",
       "      <td>Sanchez</td>\n",
       "      <td>Richvalley</td>\n",
       "    </tr>\n",
       "    <tr>\n",
       "      <th>State</th>\n",
       "      <td>CA 94114</td>\n",
       "      <td>CA 94119</td>\n",
       "      <td>California 94114</td>\n",
       "      <td>CA 94114</td>\n",
       "      <td>California</td>\n",
       "      <td>CA 94114</td>\n",
       "    </tr>\n",
       "  </tbody>\n",
       "</table>\n",
       "</div>"
      ],
      "text/plain": [
       "Address     3666 21st St 735 Dolores St       332 Hill St   3995 23rd St  \\\n",
       "City       San Francisco  San Francisco     San Francisco  San Francisco   \n",
       "Country              USA            USA               USA            USA   \n",
       "Employees              8             15                25             10   \n",
       "ID                     1              2                 3              4   \n",
       "Name             Madeira    Bready Shop       Super River     Ben's Shop   \n",
       "State           CA 94114       CA 94119  California 94114       CA 94114   \n",
       "\n",
       "Address   1056 Sanchez St 551 Alvarado St  \n",
       "City        San Francisco   San Francisco  \n",
       "Country               USA             USA  \n",
       "Employees              12              20  \n",
       "ID                      5               6  \n",
       "Name              Sanchez      Richvalley  \n",
       "State          California        CA 94114  "
      ]
     },
     "execution_count": 16,
     "metadata": {},
     "output_type": "execute_result"
    }
   ],
   "source": [
    "df2_T=df2.T\n",
    "df2_T"
   ]
  },
  {
   "cell_type": "code",
   "execution_count": 19,
   "metadata": {
    "collapsed": false
   },
   "outputs": [],
   "source": [
    "df2[\"continent\"]=df2.shape[0]*[\"North America\"]"
   ]
  },
  {
   "cell_type": "code",
   "execution_count": 20,
   "metadata": {
    "collapsed": false
   },
   "outputs": [
    {
     "data": {
      "text/html": [
       "<div>\n",
       "<table border=\"1\" class=\"dataframe\">\n",
       "  <thead>\n",
       "    <tr style=\"text-align: right;\">\n",
       "      <th></th>\n",
       "      <th>City</th>\n",
       "      <th>Country</th>\n",
       "      <th>Employees</th>\n",
       "      <th>ID</th>\n",
       "      <th>Name</th>\n",
       "      <th>State</th>\n",
       "      <th>continent</th>\n",
       "    </tr>\n",
       "    <tr>\n",
       "      <th>Address</th>\n",
       "      <th></th>\n",
       "      <th></th>\n",
       "      <th></th>\n",
       "      <th></th>\n",
       "      <th></th>\n",
       "      <th></th>\n",
       "      <th></th>\n",
       "    </tr>\n",
       "  </thead>\n",
       "  <tbody>\n",
       "    <tr>\n",
       "      <th>3666 21st St</th>\n",
       "      <td>San Francisco</td>\n",
       "      <td>USA</td>\n",
       "      <td>8</td>\n",
       "      <td>1</td>\n",
       "      <td>Madeira</td>\n",
       "      <td>CA 94114</td>\n",
       "      <td>North America</td>\n",
       "    </tr>\n",
       "    <tr>\n",
       "      <th>735 Dolores St</th>\n",
       "      <td>San Francisco</td>\n",
       "      <td>USA</td>\n",
       "      <td>15</td>\n",
       "      <td>2</td>\n",
       "      <td>Bready Shop</td>\n",
       "      <td>CA 94119</td>\n",
       "      <td>North America</td>\n",
       "    </tr>\n",
       "    <tr>\n",
       "      <th>332 Hill St</th>\n",
       "      <td>San Francisco</td>\n",
       "      <td>USA</td>\n",
       "      <td>25</td>\n",
       "      <td>3</td>\n",
       "      <td>Super River</td>\n",
       "      <td>California 94114</td>\n",
       "      <td>North America</td>\n",
       "    </tr>\n",
       "    <tr>\n",
       "      <th>3995 23rd St</th>\n",
       "      <td>San Francisco</td>\n",
       "      <td>USA</td>\n",
       "      <td>10</td>\n",
       "      <td>4</td>\n",
       "      <td>Ben's Shop</td>\n",
       "      <td>CA 94114</td>\n",
       "      <td>North America</td>\n",
       "    </tr>\n",
       "    <tr>\n",
       "      <th>1056 Sanchez St</th>\n",
       "      <td>San Francisco</td>\n",
       "      <td>USA</td>\n",
       "      <td>12</td>\n",
       "      <td>5</td>\n",
       "      <td>Sanchez</td>\n",
       "      <td>California</td>\n",
       "      <td>North America</td>\n",
       "    </tr>\n",
       "    <tr>\n",
       "      <th>551 Alvarado St</th>\n",
       "      <td>San Francisco</td>\n",
       "      <td>USA</td>\n",
       "      <td>20</td>\n",
       "      <td>6</td>\n",
       "      <td>Richvalley</td>\n",
       "      <td>CA 94114</td>\n",
       "      <td>North America</td>\n",
       "    </tr>\n",
       "  </tbody>\n",
       "</table>\n",
       "</div>"
      ],
      "text/plain": [
       "                          City Country  Employees  ID         Name  \\\n",
       "Address                                                              \n",
       "3666 21st St     San Francisco     USA          8   1      Madeira   \n",
       "735 Dolores St   San Francisco     USA         15   2  Bready Shop   \n",
       "332 Hill St      San Francisco     USA         25   3  Super River   \n",
       "3995 23rd St     San Francisco     USA         10   4   Ben's Shop   \n",
       "1056 Sanchez St  San Francisco     USA         12   5      Sanchez   \n",
       "551 Alvarado St  San Francisco     USA         20   6   Richvalley   \n",
       "\n",
       "                            State      continent  \n",
       "Address                                           \n",
       "3666 21st St             CA 94114  North America  \n",
       "735 Dolores St           CA 94119  North America  \n",
       "332 Hill St      California 94114  North America  \n",
       "3995 23rd St             CA 94114  North America  \n",
       "1056 Sanchez St        California  North America  \n",
       "551 Alvarado St          CA 94114  North America  "
      ]
     },
     "execution_count": 20,
     "metadata": {},
     "output_type": "execute_result"
    }
   ],
   "source": [
    "df2"
   ]
  },
  {
   "cell_type": "code",
   "execution_count": 23,
   "metadata": {
    "collapsed": false
   },
   "outputs": [
    {
     "data": {
      "text/html": [
       "<div>\n",
       "<table border=\"1\" class=\"dataframe\">\n",
       "  <thead>\n",
       "    <tr style=\"text-align: right;\">\n",
       "      <th></th>\n",
       "      <th>City</th>\n",
       "      <th>Country</th>\n",
       "      <th>Employees</th>\n",
       "      <th>ID</th>\n",
       "      <th>Name</th>\n",
       "      <th>State</th>\n",
       "      <th>continent</th>\n",
       "    </tr>\n",
       "    <tr>\n",
       "      <th>Address</th>\n",
       "      <th></th>\n",
       "      <th></th>\n",
       "      <th></th>\n",
       "      <th></th>\n",
       "      <th></th>\n",
       "      <th></th>\n",
       "      <th></th>\n",
       "    </tr>\n",
       "  </thead>\n",
       "  <tbody>\n",
       "    <tr>\n",
       "      <th>3666 21st St</th>\n",
       "      <td>San Francisco</td>\n",
       "      <td>USA</td>\n",
       "      <td>8</td>\n",
       "      <td>1</td>\n",
       "      <td>Madeira</td>\n",
       "      <td>CA 94114</td>\n",
       "      <td>USA,North America</td>\n",
       "    </tr>\n",
       "    <tr>\n",
       "      <th>735 Dolores St</th>\n",
       "      <td>San Francisco</td>\n",
       "      <td>USA</td>\n",
       "      <td>15</td>\n",
       "      <td>2</td>\n",
       "      <td>Bready Shop</td>\n",
       "      <td>CA 94119</td>\n",
       "      <td>USA,North America</td>\n",
       "    </tr>\n",
       "    <tr>\n",
       "      <th>332 Hill St</th>\n",
       "      <td>San Francisco</td>\n",
       "      <td>USA</td>\n",
       "      <td>25</td>\n",
       "      <td>3</td>\n",
       "      <td>Super River</td>\n",
       "      <td>California 94114</td>\n",
       "      <td>USA,North America</td>\n",
       "    </tr>\n",
       "    <tr>\n",
       "      <th>3995 23rd St</th>\n",
       "      <td>San Francisco</td>\n",
       "      <td>USA</td>\n",
       "      <td>10</td>\n",
       "      <td>4</td>\n",
       "      <td>Ben's Shop</td>\n",
       "      <td>CA 94114</td>\n",
       "      <td>USA,North America</td>\n",
       "    </tr>\n",
       "    <tr>\n",
       "      <th>1056 Sanchez St</th>\n",
       "      <td>San Francisco</td>\n",
       "      <td>USA</td>\n",
       "      <td>12</td>\n",
       "      <td>5</td>\n",
       "      <td>Sanchez</td>\n",
       "      <td>California</td>\n",
       "      <td>USA,North America</td>\n",
       "    </tr>\n",
       "    <tr>\n",
       "      <th>551 Alvarado St</th>\n",
       "      <td>San Francisco</td>\n",
       "      <td>USA</td>\n",
       "      <td>20</td>\n",
       "      <td>6</td>\n",
       "      <td>Richvalley</td>\n",
       "      <td>CA 94114</td>\n",
       "      <td>USA,North America</td>\n",
       "    </tr>\n",
       "  </tbody>\n",
       "</table>\n",
       "</div>"
      ],
      "text/plain": [
       "                          City Country  Employees  ID         Name  \\\n",
       "Address                                                              \n",
       "3666 21st St     San Francisco     USA          8   1      Madeira   \n",
       "735 Dolores St   San Francisco     USA         15   2  Bready Shop   \n",
       "332 Hill St      San Francisco     USA         25   3  Super River   \n",
       "3995 23rd St     San Francisco     USA         10   4   Ben's Shop   \n",
       "1056 Sanchez St  San Francisco     USA         12   5      Sanchez   \n",
       "551 Alvarado St  San Francisco     USA         20   6   Richvalley   \n",
       "\n",
       "                            State          continent  \n",
       "Address                                               \n",
       "3666 21st St             CA 94114  USA,North America  \n",
       "735 Dolores St           CA 94119  USA,North America  \n",
       "332 Hill St      California 94114  USA,North America  \n",
       "3995 23rd St             CA 94114  USA,North America  \n",
       "1056 Sanchez St        California  USA,North America  \n",
       "551 Alvarado St          CA 94114  USA,North America  "
      ]
     },
     "execution_count": 23,
     "metadata": {},
     "output_type": "execute_result"
    }
   ],
   "source": [
    "df2[\"continent\"]= df2[\"Country\"]+\",\"+ \"North America\"\n",
    "df2"
   ]
  },
  {
   "cell_type": "code",
   "execution_count": 24,
   "metadata": {
    "collapsed": true
   },
   "outputs": [],
   "source": [
    "df2_t=df2.T\n",
    "df2_t[\"My Address\"]=[\"My City\", \"My Country\", 10, 10, \"My Shop Name\", \"My State\",\"My Continent\"]"
   ]
  },
  {
   "cell_type": "code",
   "execution_count": 25,
   "metadata": {
    "collapsed": false
   },
   "outputs": [
    {
     "data": {
      "text/html": [
       "<div>\n",
       "<table border=\"1\" class=\"dataframe\">\n",
       "  <thead>\n",
       "    <tr style=\"text-align: right;\">\n",
       "      <th></th>\n",
       "      <th>City</th>\n",
       "      <th>Country</th>\n",
       "      <th>Employees</th>\n",
       "      <th>ID</th>\n",
       "      <th>Name</th>\n",
       "      <th>State</th>\n",
       "      <th>continent</th>\n",
       "    </tr>\n",
       "    <tr>\n",
       "      <th>Address</th>\n",
       "      <th></th>\n",
       "      <th></th>\n",
       "      <th></th>\n",
       "      <th></th>\n",
       "      <th></th>\n",
       "      <th></th>\n",
       "      <th></th>\n",
       "    </tr>\n",
       "  </thead>\n",
       "  <tbody>\n",
       "    <tr>\n",
       "      <th>3666 21st St</th>\n",
       "      <td>San Francisco</td>\n",
       "      <td>USA</td>\n",
       "      <td>8</td>\n",
       "      <td>1</td>\n",
       "      <td>Madeira</td>\n",
       "      <td>CA 94114</td>\n",
       "      <td>USA,North America</td>\n",
       "    </tr>\n",
       "    <tr>\n",
       "      <th>735 Dolores St</th>\n",
       "      <td>San Francisco</td>\n",
       "      <td>USA</td>\n",
       "      <td>15</td>\n",
       "      <td>2</td>\n",
       "      <td>Bready Shop</td>\n",
       "      <td>CA 94119</td>\n",
       "      <td>USA,North America</td>\n",
       "    </tr>\n",
       "    <tr>\n",
       "      <th>332 Hill St</th>\n",
       "      <td>San Francisco</td>\n",
       "      <td>USA</td>\n",
       "      <td>25</td>\n",
       "      <td>3</td>\n",
       "      <td>Super River</td>\n",
       "      <td>California 94114</td>\n",
       "      <td>USA,North America</td>\n",
       "    </tr>\n",
       "    <tr>\n",
       "      <th>3995 23rd St</th>\n",
       "      <td>San Francisco</td>\n",
       "      <td>USA</td>\n",
       "      <td>10</td>\n",
       "      <td>4</td>\n",
       "      <td>Ben's Shop</td>\n",
       "      <td>CA 94114</td>\n",
       "      <td>USA,North America</td>\n",
       "    </tr>\n",
       "    <tr>\n",
       "      <th>1056 Sanchez St</th>\n",
       "      <td>San Francisco</td>\n",
       "      <td>USA</td>\n",
       "      <td>12</td>\n",
       "      <td>5</td>\n",
       "      <td>Sanchez</td>\n",
       "      <td>California</td>\n",
       "      <td>USA,North America</td>\n",
       "    </tr>\n",
       "    <tr>\n",
       "      <th>551 Alvarado St</th>\n",
       "      <td>San Francisco</td>\n",
       "      <td>USA</td>\n",
       "      <td>20</td>\n",
       "      <td>6</td>\n",
       "      <td>Richvalley</td>\n",
       "      <td>CA 94114</td>\n",
       "      <td>USA,North America</td>\n",
       "    </tr>\n",
       "    <tr>\n",
       "      <th>My Address</th>\n",
       "      <td>My City</td>\n",
       "      <td>My Country</td>\n",
       "      <td>10</td>\n",
       "      <td>10</td>\n",
       "      <td>My Shop Name</td>\n",
       "      <td>My State</td>\n",
       "      <td>My Continent</td>\n",
       "    </tr>\n",
       "  </tbody>\n",
       "</table>\n",
       "</div>"
      ],
      "text/plain": [
       "                          City     Country Employees  ID          Name  \\\n",
       "Address                                                                  \n",
       "3666 21st St     San Francisco         USA         8   1       Madeira   \n",
       "735 Dolores St   San Francisco         USA        15   2   Bready Shop   \n",
       "332 Hill St      San Francisco         USA        25   3   Super River   \n",
       "3995 23rd St     San Francisco         USA        10   4    Ben's Shop   \n",
       "1056 Sanchez St  San Francisco         USA        12   5       Sanchez   \n",
       "551 Alvarado St  San Francisco         USA        20   6    Richvalley   \n",
       "My Address             My City  My Country        10  10  My Shop Name   \n",
       "\n",
       "                            State          continent  \n",
       "Address                                               \n",
       "3666 21st St             CA 94114  USA,North America  \n",
       "735 Dolores St           CA 94119  USA,North America  \n",
       "332 Hill St      California 94114  USA,North America  \n",
       "3995 23rd St             CA 94114  USA,North America  \n",
       "1056 Sanchez St        California  USA,North America  \n",
       "551 Alvarado St          CA 94114  USA,North America  \n",
       "My Address               My State       My Continent  "
      ]
     },
     "execution_count": 25,
     "metadata": {},
     "output_type": "execute_result"
    }
   ],
   "source": [
    "df3=df2_t.T\n",
    "df3"
   ]
  },
  {
   "cell_type": "code",
   "execution_count": 26,
   "metadata": {
    "collapsed": false
   },
   "outputs": [
    {
     "data": {
      "text/plain": [
       "['ArcGIS',\n",
       " 'Baidu',\n",
       " 'Bing',\n",
       " 'DataBC',\n",
       " 'GeoNames',\n",
       " 'GeocodeFarm',\n",
       " 'GeocoderDotUS',\n",
       " 'GoogleV3',\n",
       " 'IGNFrance',\n",
       " 'LiveAddress',\n",
       " 'Location',\n",
       " 'NaviData',\n",
       " 'Nominatim',\n",
       " 'OpenCage',\n",
       " 'OpenMapQuest',\n",
       " 'Photon',\n",
       " 'Point',\n",
       " 'What3Words',\n",
       " 'YahooPlaceFinder',\n",
       " 'Yandex',\n",
       " '__builtins__',\n",
       " '__cached__',\n",
       " '__doc__',\n",
       " '__file__',\n",
       " '__loader__',\n",
       " '__name__',\n",
       " '__package__',\n",
       " '__path__',\n",
       " '__spec__',\n",
       " '__version__',\n",
       " 'compat',\n",
       " 'exc',\n",
       " 'format',\n",
       " 'geocoders',\n",
       " 'get_geocoder_for_service',\n",
       " 'location',\n",
       " 'point',\n",
       " 'units',\n",
       " 'util']"
      ]
     },
     "execution_count": 26,
     "metadata": {},
     "output_type": "execute_result"
    }
   ],
   "source": [
    "import geopy\n",
    "dir(geopy)"
   ]
  },
  {
   "cell_type": "code",
   "execution_count": 27,
   "metadata": {
    "collapsed": true
   },
   "outputs": [],
   "source": [
    "from geopy.geocoders import Nominatim\n",
    "nom=Nominatim()"
   ]
  },
  {
   "cell_type": "code",
   "execution_count": 28,
   "metadata": {
    "collapsed": false
   },
   "outputs": [
    {
     "data": {
      "text/plain": [
       "Location(3395, 23rd Street, Liberty Street Historic District, SF, California, 94110, United States of America, (37.753699, -122.419509306122, 0.0))"
      ]
     },
     "execution_count": 28,
     "metadata": {},
     "output_type": "execute_result"
    }
   ],
   "source": [
    "n=nom.geocode(\"3395 23rd St, San Francisco, CA 94114\")\n",
    "n"
   ]
  },
  {
   "cell_type": "code",
   "execution_count": 30,
   "metadata": {
    "collapsed": false
   },
   "outputs": [
    {
     "data": {
      "text/plain": [
       "37.753699"
      ]
     },
     "execution_count": 30,
     "metadata": {},
     "output_type": "execute_result"
    }
   ],
   "source": [
    "n.latitude"
   ]
  },
  {
   "cell_type": "code",
   "execution_count": 31,
   "metadata": {
    "collapsed": false
   },
   "outputs": [
    {
     "data": {
      "text/plain": [
       "-122.419509306122"
      ]
     },
     "execution_count": 31,
     "metadata": {},
     "output_type": "execute_result"
    }
   ],
   "source": [
    "n.longitude"
   ]
  },
  {
   "cell_type": "code",
   "execution_count": 35,
   "metadata": {
    "collapsed": false
   },
   "outputs": [],
   "source": [
    "df3[\"Geocode\"]=df3.shape[0]*[\"lattitude, longitude\"]"
   ]
  },
  {
   "cell_type": "code",
   "execution_count": 36,
   "metadata": {
    "collapsed": false
   },
   "outputs": [
    {
     "data": {
      "text/html": [
       "<div>\n",
       "<table border=\"1\" class=\"dataframe\">\n",
       "  <thead>\n",
       "    <tr style=\"text-align: right;\">\n",
       "      <th></th>\n",
       "      <th>City</th>\n",
       "      <th>Country</th>\n",
       "      <th>Employees</th>\n",
       "      <th>ID</th>\n",
       "      <th>Name</th>\n",
       "      <th>State</th>\n",
       "      <th>continent</th>\n",
       "      <th>Geocode</th>\n",
       "    </tr>\n",
       "    <tr>\n",
       "      <th>Address</th>\n",
       "      <th></th>\n",
       "      <th></th>\n",
       "      <th></th>\n",
       "      <th></th>\n",
       "      <th></th>\n",
       "      <th></th>\n",
       "      <th></th>\n",
       "      <th></th>\n",
       "    </tr>\n",
       "  </thead>\n",
       "  <tbody>\n",
       "    <tr>\n",
       "      <th>3666 21st St</th>\n",
       "      <td>San Francisco</td>\n",
       "      <td>USA</td>\n",
       "      <td>8</td>\n",
       "      <td>1</td>\n",
       "      <td>Madeira</td>\n",
       "      <td>CA 94114</td>\n",
       "      <td>USA,North America</td>\n",
       "      <td>lattitude, longitude</td>\n",
       "    </tr>\n",
       "    <tr>\n",
       "      <th>735 Dolores St</th>\n",
       "      <td>San Francisco</td>\n",
       "      <td>USA</td>\n",
       "      <td>15</td>\n",
       "      <td>2</td>\n",
       "      <td>Bready Shop</td>\n",
       "      <td>CA 94119</td>\n",
       "      <td>USA,North America</td>\n",
       "      <td>lattitude, longitude</td>\n",
       "    </tr>\n",
       "    <tr>\n",
       "      <th>332 Hill St</th>\n",
       "      <td>San Francisco</td>\n",
       "      <td>USA</td>\n",
       "      <td>25</td>\n",
       "      <td>3</td>\n",
       "      <td>Super River</td>\n",
       "      <td>California 94114</td>\n",
       "      <td>USA,North America</td>\n",
       "      <td>lattitude, longitude</td>\n",
       "    </tr>\n",
       "    <tr>\n",
       "      <th>3995 23rd St</th>\n",
       "      <td>San Francisco</td>\n",
       "      <td>USA</td>\n",
       "      <td>10</td>\n",
       "      <td>4</td>\n",
       "      <td>Ben's Shop</td>\n",
       "      <td>CA 94114</td>\n",
       "      <td>USA,North America</td>\n",
       "      <td>lattitude, longitude</td>\n",
       "    </tr>\n",
       "    <tr>\n",
       "      <th>1056 Sanchez St</th>\n",
       "      <td>San Francisco</td>\n",
       "      <td>USA</td>\n",
       "      <td>12</td>\n",
       "      <td>5</td>\n",
       "      <td>Sanchez</td>\n",
       "      <td>California</td>\n",
       "      <td>USA,North America</td>\n",
       "      <td>lattitude, longitude</td>\n",
       "    </tr>\n",
       "    <tr>\n",
       "      <th>551 Alvarado St</th>\n",
       "      <td>San Francisco</td>\n",
       "      <td>USA</td>\n",
       "      <td>20</td>\n",
       "      <td>6</td>\n",
       "      <td>Richvalley</td>\n",
       "      <td>CA 94114</td>\n",
       "      <td>USA,North America</td>\n",
       "      <td>lattitude, longitude</td>\n",
       "    </tr>\n",
       "    <tr>\n",
       "      <th>My Address</th>\n",
       "      <td>My City</td>\n",
       "      <td>My Country</td>\n",
       "      <td>10</td>\n",
       "      <td>10</td>\n",
       "      <td>My Shop Name</td>\n",
       "      <td>My State</td>\n",
       "      <td>My Continent</td>\n",
       "      <td>lattitude, longitude</td>\n",
       "    </tr>\n",
       "  </tbody>\n",
       "</table>\n",
       "</div>"
      ],
      "text/plain": [
       "                          City     Country Employees  ID          Name  \\\n",
       "Address                                                                  \n",
       "3666 21st St     San Francisco         USA         8   1       Madeira   \n",
       "735 Dolores St   San Francisco         USA        15   2   Bready Shop   \n",
       "332 Hill St      San Francisco         USA        25   3   Super River   \n",
       "3995 23rd St     San Francisco         USA        10   4    Ben's Shop   \n",
       "1056 Sanchez St  San Francisco         USA        12   5       Sanchez   \n",
       "551 Alvarado St  San Francisco         USA        20   6    Richvalley   \n",
       "My Address             My City  My Country        10  10  My Shop Name   \n",
       "\n",
       "                            State          continent               Geocode  \n",
       "Address                                                                     \n",
       "3666 21st St             CA 94114  USA,North America  lattitude, longitude  \n",
       "735 Dolores St           CA 94119  USA,North America  lattitude, longitude  \n",
       "332 Hill St      California 94114  USA,North America  lattitude, longitude  \n",
       "3995 23rd St             CA 94114  USA,North America  lattitude, longitude  \n",
       "1056 Sanchez St        California  USA,North America  lattitude, longitude  \n",
       "551 Alvarado St          CA 94114  USA,North America  lattitude, longitude  \n",
       "My Address               My State       My Continent  lattitude, longitude  "
      ]
     },
     "execution_count": 36,
     "metadata": {},
     "output_type": "execute_result"
    }
   ],
   "source": [
    "df3"
   ]
  },
  {
   "cell_type": "code",
   "execution_count": 37,
   "metadata": {
    "collapsed": false
   },
   "outputs": [
    {
     "data": {
      "text/html": [
       "<div>\n",
       "<table border=\"1\" class=\"dataframe\">\n",
       "  <thead>\n",
       "    <tr style=\"text-align: right;\">\n",
       "      <th></th>\n",
       "      <th>ID</th>\n",
       "      <th>Address</th>\n",
       "      <th>City</th>\n",
       "      <th>State</th>\n",
       "      <th>Country</th>\n",
       "      <th>Name</th>\n",
       "      <th>Employees</th>\n",
       "    </tr>\n",
       "  </thead>\n",
       "  <tbody>\n",
       "    <tr>\n",
       "      <th>0</th>\n",
       "      <td>1</td>\n",
       "      <td>3666 21st St</td>\n",
       "      <td>San Francisco</td>\n",
       "      <td>CA 94114</td>\n",
       "      <td>USA</td>\n",
       "      <td>Madeira</td>\n",
       "      <td>8</td>\n",
       "    </tr>\n",
       "    <tr>\n",
       "      <th>1</th>\n",
       "      <td>2</td>\n",
       "      <td>735 Dolores St</td>\n",
       "      <td>San Francisco</td>\n",
       "      <td>CA 94119</td>\n",
       "      <td>USA</td>\n",
       "      <td>Bready Shop</td>\n",
       "      <td>15</td>\n",
       "    </tr>\n",
       "    <tr>\n",
       "      <th>2</th>\n",
       "      <td>3</td>\n",
       "      <td>332 Hill St</td>\n",
       "      <td>San Francisco</td>\n",
       "      <td>California 94114</td>\n",
       "      <td>USA</td>\n",
       "      <td>Super River</td>\n",
       "      <td>25</td>\n",
       "    </tr>\n",
       "    <tr>\n",
       "      <th>3</th>\n",
       "      <td>4</td>\n",
       "      <td>3995 23rd St</td>\n",
       "      <td>San Francisco</td>\n",
       "      <td>CA 94114</td>\n",
       "      <td>USA</td>\n",
       "      <td>Ben's Shop</td>\n",
       "      <td>10</td>\n",
       "    </tr>\n",
       "    <tr>\n",
       "      <th>4</th>\n",
       "      <td>5</td>\n",
       "      <td>1056 Sanchez St</td>\n",
       "      <td>San Francisco</td>\n",
       "      <td>California</td>\n",
       "      <td>USA</td>\n",
       "      <td>Sanchez</td>\n",
       "      <td>12</td>\n",
       "    </tr>\n",
       "    <tr>\n",
       "      <th>5</th>\n",
       "      <td>6</td>\n",
       "      <td>551 Alvarado St</td>\n",
       "      <td>San Francisco</td>\n",
       "      <td>CA 94114</td>\n",
       "      <td>USA</td>\n",
       "      <td>Richvalley</td>\n",
       "      <td>20</td>\n",
       "    </tr>\n",
       "  </tbody>\n",
       "</table>\n",
       "</div>"
      ],
      "text/plain": [
       "   ID          Address           City             State Country         Name  \\\n",
       "0   1     3666 21st St  San Francisco          CA 94114     USA      Madeira   \n",
       "1   2   735 Dolores St  San Francisco          CA 94119     USA  Bready Shop   \n",
       "2   3      332 Hill St  San Francisco  California 94114     USA  Super River   \n",
       "3   4     3995 23rd St  San Francisco          CA 94114     USA   Ben's Shop   \n",
       "4   5  1056 Sanchez St  San Francisco        California     USA      Sanchez   \n",
       "5   6  551 Alvarado St  San Francisco          CA 94114     USA   Richvalley   \n",
       "\n",
       "   Employees  \n",
       "0          8  \n",
       "1         15  \n",
       "2         25  \n",
       "3         10  \n",
       "4         12  \n",
       "5         20  "
      ]
     },
     "execution_count": 37,
     "metadata": {},
     "output_type": "execute_result"
    }
   ],
   "source": [
    "import pandas\n",
    "df=pandas.read_csv(\"supermarkets.csv\")\n",
    "df"
   ]
  },
  {
   "cell_type": "code",
   "execution_count": 38,
   "metadata": {
    "collapsed": false
   },
   "outputs": [
    {
     "ename": "KeyError",
     "evalue": "'Contry'",
     "output_type": "error",
     "traceback": [
      "\u001b[1;31m---------------------------------------------------------------------------\u001b[0m",
      "\u001b[1;31mKeyError\u001b[0m                                  Traceback (most recent call last)",
      "\u001b[1;32mc:\\users\\hzoghi\\appdata\\local\\programs\\python\\python36-32\\lib\\site-packages\\pandas\\indexes\\base.py\u001b[0m in \u001b[0;36mget_loc\u001b[1;34m(self, key, method, tolerance)\u001b[0m\n\u001b[0;32m   2133\u001b[0m             \u001b[1;32mtry\u001b[0m\u001b[1;33m:\u001b[0m\u001b[1;33m\u001b[0m\u001b[0m\n\u001b[1;32m-> 2134\u001b[1;33m                 \u001b[1;32mreturn\u001b[0m \u001b[0mself\u001b[0m\u001b[1;33m.\u001b[0m\u001b[0m_engine\u001b[0m\u001b[1;33m.\u001b[0m\u001b[0mget_loc\u001b[0m\u001b[1;33m(\u001b[0m\u001b[0mkey\u001b[0m\u001b[1;33m)\u001b[0m\u001b[1;33m\u001b[0m\u001b[0m\n\u001b[0m\u001b[0;32m   2135\u001b[0m             \u001b[1;32mexcept\u001b[0m \u001b[0mKeyError\u001b[0m\u001b[1;33m:\u001b[0m\u001b[1;33m\u001b[0m\u001b[0m\n",
      "\u001b[1;32mpandas\\index.pyx\u001b[0m in \u001b[0;36mpandas.index.IndexEngine.get_loc (pandas\\index.c:4433)\u001b[1;34m()\u001b[0m\n",
      "\u001b[1;32mpandas\\index.pyx\u001b[0m in \u001b[0;36mpandas.index.IndexEngine.get_loc (pandas\\index.c:4279)\u001b[1;34m()\u001b[0m\n",
      "\u001b[1;32mpandas\\src\\hashtable_class_helper.pxi\u001b[0m in \u001b[0;36mpandas.hashtable.PyObjectHashTable.get_item (pandas\\hashtable.c:13742)\u001b[1;34m()\u001b[0m\n",
      "\u001b[1;32mpandas\\src\\hashtable_class_helper.pxi\u001b[0m in \u001b[0;36mpandas.hashtable.PyObjectHashTable.get_item (pandas\\hashtable.c:13696)\u001b[1;34m()\u001b[0m\n",
      "\u001b[1;31mKeyError\u001b[0m: 'Contry'",
      "\nDuring handling of the above exception, another exception occurred:\n",
      "\u001b[1;31mKeyError\u001b[0m                                  Traceback (most recent call last)",
      "\u001b[1;32m<ipython-input-38-554c2a2e0789>\u001b[0m in \u001b[0;36m<module>\u001b[1;34m()\u001b[0m\n\u001b[1;32m----> 1\u001b[1;33m \u001b[0mdf\u001b[0m\u001b[1;33m[\u001b[0m\u001b[1;34m\"AddressText\"\u001b[0m\u001b[1;33m]\u001b[0m\u001b[1;33m=\u001b[0m\u001b[0mdf\u001b[0m\u001b[1;33m[\u001b[0m\u001b[1;34m\"Address\"\u001b[0m\u001b[1;33m]\u001b[0m \u001b[1;33m+\u001b[0m \u001b[1;34m\", \"\u001b[0m \u001b[1;33m+\u001b[0m \u001b[0mdf\u001b[0m\u001b[1;33m[\u001b[0m\u001b[1;34m\"City\"\u001b[0m\u001b[1;33m]\u001b[0m \u001b[1;33m+\u001b[0m \u001b[1;34m\", \"\u001b[0m\u001b[1;33m+\u001b[0m\u001b[0mdf\u001b[0m\u001b[1;33m[\u001b[0m\u001b[1;34m\"State\"\u001b[0m\u001b[1;33m]\u001b[0m\u001b[1;33m+\u001b[0m\u001b[1;34m\", \"\u001b[0m\u001b[1;33m+\u001b[0m\u001b[0mdf\u001b[0m\u001b[1;33m[\u001b[0m\u001b[1;34m\"Contry\"\u001b[0m\u001b[1;33m]\u001b[0m\u001b[1;33m\u001b[0m\u001b[0m\n\u001b[0m\u001b[0;32m      2\u001b[0m \u001b[0mdf\u001b[0m\u001b[1;33m\u001b[0m\u001b[0m\n",
      "\u001b[1;32mc:\\users\\hzoghi\\appdata\\local\\programs\\python\\python36-32\\lib\\site-packages\\pandas\\core\\frame.py\u001b[0m in \u001b[0;36m__getitem__\u001b[1;34m(self, key)\u001b[0m\n\u001b[0;32m   2057\u001b[0m             \u001b[1;32mreturn\u001b[0m \u001b[0mself\u001b[0m\u001b[1;33m.\u001b[0m\u001b[0m_getitem_multilevel\u001b[0m\u001b[1;33m(\u001b[0m\u001b[0mkey\u001b[0m\u001b[1;33m)\u001b[0m\u001b[1;33m\u001b[0m\u001b[0m\n\u001b[0;32m   2058\u001b[0m         \u001b[1;32melse\u001b[0m\u001b[1;33m:\u001b[0m\u001b[1;33m\u001b[0m\u001b[0m\n\u001b[1;32m-> 2059\u001b[1;33m             \u001b[1;32mreturn\u001b[0m \u001b[0mself\u001b[0m\u001b[1;33m.\u001b[0m\u001b[0m_getitem_column\u001b[0m\u001b[1;33m(\u001b[0m\u001b[0mkey\u001b[0m\u001b[1;33m)\u001b[0m\u001b[1;33m\u001b[0m\u001b[0m\n\u001b[0m\u001b[0;32m   2060\u001b[0m \u001b[1;33m\u001b[0m\u001b[0m\n\u001b[0;32m   2061\u001b[0m     \u001b[1;32mdef\u001b[0m \u001b[0m_getitem_column\u001b[0m\u001b[1;33m(\u001b[0m\u001b[0mself\u001b[0m\u001b[1;33m,\u001b[0m \u001b[0mkey\u001b[0m\u001b[1;33m)\u001b[0m\u001b[1;33m:\u001b[0m\u001b[1;33m\u001b[0m\u001b[0m\n",
      "\u001b[1;32mc:\\users\\hzoghi\\appdata\\local\\programs\\python\\python36-32\\lib\\site-packages\\pandas\\core\\frame.py\u001b[0m in \u001b[0;36m_getitem_column\u001b[1;34m(self, key)\u001b[0m\n\u001b[0;32m   2064\u001b[0m         \u001b[1;31m# get column\u001b[0m\u001b[1;33m\u001b[0m\u001b[1;33m\u001b[0m\u001b[0m\n\u001b[0;32m   2065\u001b[0m         \u001b[1;32mif\u001b[0m \u001b[0mself\u001b[0m\u001b[1;33m.\u001b[0m\u001b[0mcolumns\u001b[0m\u001b[1;33m.\u001b[0m\u001b[0mis_unique\u001b[0m\u001b[1;33m:\u001b[0m\u001b[1;33m\u001b[0m\u001b[0m\n\u001b[1;32m-> 2066\u001b[1;33m             \u001b[1;32mreturn\u001b[0m \u001b[0mself\u001b[0m\u001b[1;33m.\u001b[0m\u001b[0m_get_item_cache\u001b[0m\u001b[1;33m(\u001b[0m\u001b[0mkey\u001b[0m\u001b[1;33m)\u001b[0m\u001b[1;33m\u001b[0m\u001b[0m\n\u001b[0m\u001b[0;32m   2067\u001b[0m \u001b[1;33m\u001b[0m\u001b[0m\n\u001b[0;32m   2068\u001b[0m         \u001b[1;31m# duplicate columns & possible reduce dimensionality\u001b[0m\u001b[1;33m\u001b[0m\u001b[1;33m\u001b[0m\u001b[0m\n",
      "\u001b[1;32mc:\\users\\hzoghi\\appdata\\local\\programs\\python\\python36-32\\lib\\site-packages\\pandas\\core\\generic.py\u001b[0m in \u001b[0;36m_get_item_cache\u001b[1;34m(self, item)\u001b[0m\n\u001b[0;32m   1384\u001b[0m         \u001b[0mres\u001b[0m \u001b[1;33m=\u001b[0m \u001b[0mcache\u001b[0m\u001b[1;33m.\u001b[0m\u001b[0mget\u001b[0m\u001b[1;33m(\u001b[0m\u001b[0mitem\u001b[0m\u001b[1;33m)\u001b[0m\u001b[1;33m\u001b[0m\u001b[0m\n\u001b[0;32m   1385\u001b[0m         \u001b[1;32mif\u001b[0m \u001b[0mres\u001b[0m \u001b[1;32mis\u001b[0m \u001b[1;32mNone\u001b[0m\u001b[1;33m:\u001b[0m\u001b[1;33m\u001b[0m\u001b[0m\n\u001b[1;32m-> 1386\u001b[1;33m             \u001b[0mvalues\u001b[0m \u001b[1;33m=\u001b[0m \u001b[0mself\u001b[0m\u001b[1;33m.\u001b[0m\u001b[0m_data\u001b[0m\u001b[1;33m.\u001b[0m\u001b[0mget\u001b[0m\u001b[1;33m(\u001b[0m\u001b[0mitem\u001b[0m\u001b[1;33m)\u001b[0m\u001b[1;33m\u001b[0m\u001b[0m\n\u001b[0m\u001b[0;32m   1387\u001b[0m             \u001b[0mres\u001b[0m \u001b[1;33m=\u001b[0m \u001b[0mself\u001b[0m\u001b[1;33m.\u001b[0m\u001b[0m_box_item_values\u001b[0m\u001b[1;33m(\u001b[0m\u001b[0mitem\u001b[0m\u001b[1;33m,\u001b[0m \u001b[0mvalues\u001b[0m\u001b[1;33m)\u001b[0m\u001b[1;33m\u001b[0m\u001b[0m\n\u001b[0;32m   1388\u001b[0m             \u001b[0mcache\u001b[0m\u001b[1;33m[\u001b[0m\u001b[0mitem\u001b[0m\u001b[1;33m]\u001b[0m \u001b[1;33m=\u001b[0m \u001b[0mres\u001b[0m\u001b[1;33m\u001b[0m\u001b[0m\n",
      "\u001b[1;32mc:\\users\\hzoghi\\appdata\\local\\programs\\python\\python36-32\\lib\\site-packages\\pandas\\core\\internals.py\u001b[0m in \u001b[0;36mget\u001b[1;34m(self, item, fastpath)\u001b[0m\n\u001b[0;32m   3541\u001b[0m \u001b[1;33m\u001b[0m\u001b[0m\n\u001b[0;32m   3542\u001b[0m             \u001b[1;32mif\u001b[0m \u001b[1;32mnot\u001b[0m \u001b[0misnull\u001b[0m\u001b[1;33m(\u001b[0m\u001b[0mitem\u001b[0m\u001b[1;33m)\u001b[0m\u001b[1;33m:\u001b[0m\u001b[1;33m\u001b[0m\u001b[0m\n\u001b[1;32m-> 3543\u001b[1;33m                 \u001b[0mloc\u001b[0m \u001b[1;33m=\u001b[0m \u001b[0mself\u001b[0m\u001b[1;33m.\u001b[0m\u001b[0mitems\u001b[0m\u001b[1;33m.\u001b[0m\u001b[0mget_loc\u001b[0m\u001b[1;33m(\u001b[0m\u001b[0mitem\u001b[0m\u001b[1;33m)\u001b[0m\u001b[1;33m\u001b[0m\u001b[0m\n\u001b[0m\u001b[0;32m   3544\u001b[0m             \u001b[1;32melse\u001b[0m\u001b[1;33m:\u001b[0m\u001b[1;33m\u001b[0m\u001b[0m\n\u001b[0;32m   3545\u001b[0m                 \u001b[0mindexer\u001b[0m \u001b[1;33m=\u001b[0m \u001b[0mnp\u001b[0m\u001b[1;33m.\u001b[0m\u001b[0marange\u001b[0m\u001b[1;33m(\u001b[0m\u001b[0mlen\u001b[0m\u001b[1;33m(\u001b[0m\u001b[0mself\u001b[0m\u001b[1;33m.\u001b[0m\u001b[0mitems\u001b[0m\u001b[1;33m)\u001b[0m\u001b[1;33m)\u001b[0m\u001b[1;33m[\u001b[0m\u001b[0misnull\u001b[0m\u001b[1;33m(\u001b[0m\u001b[0mself\u001b[0m\u001b[1;33m.\u001b[0m\u001b[0mitems\u001b[0m\u001b[1;33m)\u001b[0m\u001b[1;33m]\u001b[0m\u001b[1;33m\u001b[0m\u001b[0m\n",
      "\u001b[1;32mc:\\users\\hzoghi\\appdata\\local\\programs\\python\\python36-32\\lib\\site-packages\\pandas\\indexes\\base.py\u001b[0m in \u001b[0;36mget_loc\u001b[1;34m(self, key, method, tolerance)\u001b[0m\n\u001b[0;32m   2134\u001b[0m                 \u001b[1;32mreturn\u001b[0m \u001b[0mself\u001b[0m\u001b[1;33m.\u001b[0m\u001b[0m_engine\u001b[0m\u001b[1;33m.\u001b[0m\u001b[0mget_loc\u001b[0m\u001b[1;33m(\u001b[0m\u001b[0mkey\u001b[0m\u001b[1;33m)\u001b[0m\u001b[1;33m\u001b[0m\u001b[0m\n\u001b[0;32m   2135\u001b[0m             \u001b[1;32mexcept\u001b[0m \u001b[0mKeyError\u001b[0m\u001b[1;33m:\u001b[0m\u001b[1;33m\u001b[0m\u001b[0m\n\u001b[1;32m-> 2136\u001b[1;33m                 \u001b[1;32mreturn\u001b[0m \u001b[0mself\u001b[0m\u001b[1;33m.\u001b[0m\u001b[0m_engine\u001b[0m\u001b[1;33m.\u001b[0m\u001b[0mget_loc\u001b[0m\u001b[1;33m(\u001b[0m\u001b[0mself\u001b[0m\u001b[1;33m.\u001b[0m\u001b[0m_maybe_cast_indexer\u001b[0m\u001b[1;33m(\u001b[0m\u001b[0mkey\u001b[0m\u001b[1;33m)\u001b[0m\u001b[1;33m)\u001b[0m\u001b[1;33m\u001b[0m\u001b[0m\n\u001b[0m\u001b[0;32m   2137\u001b[0m \u001b[1;33m\u001b[0m\u001b[0m\n\u001b[0;32m   2138\u001b[0m         \u001b[0mindexer\u001b[0m \u001b[1;33m=\u001b[0m \u001b[0mself\u001b[0m\u001b[1;33m.\u001b[0m\u001b[0mget_indexer\u001b[0m\u001b[1;33m(\u001b[0m\u001b[1;33m[\u001b[0m\u001b[0mkey\u001b[0m\u001b[1;33m]\u001b[0m\u001b[1;33m,\u001b[0m \u001b[0mmethod\u001b[0m\u001b[1;33m=\u001b[0m\u001b[0mmethod\u001b[0m\u001b[1;33m,\u001b[0m \u001b[0mtolerance\u001b[0m\u001b[1;33m=\u001b[0m\u001b[0mtolerance\u001b[0m\u001b[1;33m)\u001b[0m\u001b[1;33m\u001b[0m\u001b[0m\n",
      "\u001b[1;32mpandas\\index.pyx\u001b[0m in \u001b[0;36mpandas.index.IndexEngine.get_loc (pandas\\index.c:4433)\u001b[1;34m()\u001b[0m\n",
      "\u001b[1;32mpandas\\index.pyx\u001b[0m in \u001b[0;36mpandas.index.IndexEngine.get_loc (pandas\\index.c:4279)\u001b[1;34m()\u001b[0m\n",
      "\u001b[1;32mpandas\\src\\hashtable_class_helper.pxi\u001b[0m in \u001b[0;36mpandas.hashtable.PyObjectHashTable.get_item (pandas\\hashtable.c:13742)\u001b[1;34m()\u001b[0m\n",
      "\u001b[1;32mpandas\\src\\hashtable_class_helper.pxi\u001b[0m in \u001b[0;36mpandas.hashtable.PyObjectHashTable.get_item (pandas\\hashtable.c:13696)\u001b[1;34m()\u001b[0m\n",
      "\u001b[1;31mKeyError\u001b[0m: 'Contry'"
     ]
    }
   ],
   "source": [
    "df[\"AddressText\"]=df[\"Address\"] + \", \" + df[\"City\"] + \", \"+df[\"State\"]+\", \"+df[\"Country\"]\n",
    "df"
   ]
  },
  {
   "cell_type": "code",
   "execution_count": null,
   "metadata": {
    "collapsed": true
   },
   "outputs": [],
   "source": []
  },
  {
   "cell_type": "code",
   "execution_count": null,
   "metadata": {
    "collapsed": true
   },
   "outputs": [],
   "source": []
  },
  {
   "cell_type": "code",
   "execution_count": null,
   "metadata": {
    "collapsed": true
   },
   "outputs": [],
   "source": []
  }
 ],
 "metadata": {
  "kernelspec": {
   "display_name": "Python 3",
   "language": "python",
   "name": "python3"
  },
  "language_info": {
   "codemirror_mode": {
    "name": "ipython",
    "version": 3
   },
   "file_extension": ".py",
   "mimetype": "text/x-python",
   "name": "python",
   "nbconvert_exporter": "python",
   "pygments_lexer": "ipython3",
   "version": "3.6.0"
  }
 },
 "nbformat": 4,
 "nbformat_minor": 2
}
