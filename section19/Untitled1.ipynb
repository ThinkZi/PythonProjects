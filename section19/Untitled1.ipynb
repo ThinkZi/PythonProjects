{
 "cells": [
  {
   "cell_type": "code",
   "execution_count": 3,
   "metadata": {
    "collapsed": true
   },
   "outputs": [],
   "source": [
    "import pandas\n",
    "from bokeh.plotting import figure, output_file, show\n",
    "df=pandas.read_excel(\"verlegenhuken.xlsx\")"
   ]
  },
  {
   "cell_type": "code",
   "execution_count": 28,
   "metadata": {
    "collapsed": false
   },
   "outputs": [],
   "source": [
    "p=figure()\n",
    "p.circle(df[\"Temperature\"]/10,df[\"Pressure\"]/10,size=2)\n",
    "p.title.text=\"Temperature vs. Air Pressure\"\n",
    "p.title.text_font_size=\"24pt\"\n",
    "p.title.text_color=\"gray\"\n",
    "p.xaxis.axis_label=\"Temperature(Celsius)\"\n",
    "p.xaxis.axis_label_text_font_size=\"16pt\"\n",
    "p.yaxis.axis_label=\"Pressure(hPa)\"\n",
    "p.yaxis.axis_label_text_font_size=\"16pt\"\n",
    "output_file(\"Excercise.html\")\n",
    "show(p)"
   ]
  },
  {
   "cell_type": "code",
   "execution_count": 32,
   "metadata": {
    "collapsed": false
   },
   "outputs": [],
   "source": [
    "import pandas\n",
    "from bokeh.plotting import figure, output_file, show\n",
    "\n",
    "df=pandas.read_csv(\"http://ichart.yahoo.com/table.csv?s=AAPL&a=0&b=1&c=2000&d=0&e=1&f=2010\", parse_dates=[\"Date\"])\n",
    "p=figure(width=500,height=500,x_axis_type=\"datetime\", responsive=True)\n",
    "p.line(df[\"Date\"],df[\"Close\"],color=\"Orange\", alpha=0.5)\n",
    "output_file(\"Timeseries.html\")\n",
    "show(p)"
   ]
  },
  {
   "cell_type": "code",
   "execution_count": null,
   "metadata": {
    "collapsed": true
   },
   "outputs": [],
   "source": []
  }
 ],
 "metadata": {
  "kernelspec": {
   "display_name": "Python 3",
   "language": "python",
   "name": "python3"
  },
  "language_info": {
   "codemirror_mode": {
    "name": "ipython",
    "version": 3
   },
   "file_extension": ".py",
   "mimetype": "text/x-python",
   "name": "python",
   "nbconvert_exporter": "python",
   "pygments_lexer": "ipython3",
   "version": "3.6.0"
  }
 },
 "nbformat": 4,
 "nbformat_minor": 2
}
