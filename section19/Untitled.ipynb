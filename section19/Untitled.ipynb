{
 "cells": [
  {
   "cell_type": "code",
   "execution_count": 31,
   "metadata": {
    "collapsed": false
   },
   "outputs": [],
   "source": [
    "from bokeh.charts import Scatter, output_file, show\n",
    "import pandas\n",
    "df=pandas.DataFrame(columns=[\"X\",\"Y\"])\n",
    "df[\"X\"]=[1,2,3,4,5]\n",
    "df[\"Y\"]=[5,6,4,5,3]\n",
    "\n",
    "p=Scatter(df,x=\"X\", y=\"Y\", title=\"Temperature Observations\", xlabel=\"Day of observation\", ylabel=\"Temperature\")\n",
    "\n",
    "output_file(\"Scatter_charts.html\")\n",
    "show(p)\n"
   ]
  },
  {
   "cell_type": "code",
   "execution_count": 42,
   "metadata": {
    "collapsed": false
   },
   "outputs": [],
   "source": [
    "from bokeh.plotting import figure, output_file, show\n",
    "\n",
    "p=figure(plot_width=500,plot_height=400)\n",
    "p.title.text=\"Earthquake\"\n",
    "p.title.text_color=\"orange\"\n",
    "p.title.text_font=\"times\"\n",
    "p.title.text_font_style=\"italic\"\n",
    "\n",
    "p.yaxis.minor_tick_line_color=None\n",
    "p.xaxis.minor_tick_line_color=None\n",
    "\n",
    "p.xaxis.axis_label=\"Times\"\n",
    "p.yaxis.axis_label=\"Value\"\n",
    "p.circle([1,2,3,4,5],[5,6,5,5,3], size=[i*2 for i in[8,10,12,15,20]], color=\"red\", alpha=0.5)\n",
    "output_file(\"Scatter_plotting.html\")\n",
    "show(p)\n"
   ]
  }
 ],
 "metadata": {
  "kernelspec": {
   "display_name": "Python 3",
   "language": "python",
   "name": "python3"
  },
  "language_info": {
   "codemirror_mode": {
    "name": "ipython",
    "version": 3
   },
   "file_extension": ".py",
   "mimetype": "text/x-python",
   "name": "python",
   "nbconvert_exporter": "python",
   "pygments_lexer": "ipython3",
   "version": "3.6.0"
  }
 },
 "nbformat": 4,
 "nbformat_minor": 2
}
